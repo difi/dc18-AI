{
 "cells": [
  {
   "cell_type": "code",
   "execution_count": null,
   "metadata": {},
   "outputs": [],
   "source": [
    "# Downloads training data, if necessary.\n",
    "# Trains the model using 5 epochs.\n",
    "# Saves the model as a Keras HDF5 (.h5) file\n",
    "% run save-training-data.py\n"
   ]
  },
  {
   "cell_type": "code",
   "execution_count": null,
   "metadata": {},
   "outputs": [],
   "source": [
    "# Loads the training data saved by save-training-data.py\n",
    "# Checks accuracy on the test image data\n",
    "# Attempts to classify the first image of the test data\n",
    "% run load-training-data.py\n"
   ]
  },
  {
   "cell_type": "code",
   "execution_count": null,
   "metadata": {},
   "outputs": [],
   "source": [
    "# Attempts to create and train a model using TensorFlow's\n",
    "# low level API, and saves it as a checkpoint (.ckpt) file\n",
    "# Uses the Iris data set (downloaded using iris_data.py)\n",
    "% run save-training-data-tf.py\n"
   ]
  },
  {
   "cell_type": "code",
   "execution_count": null,
   "metadata": {},
   "outputs": [],
   "source": [
    "# Exports the checkpoint file saved by save-training-data-tf.py\n",
    "# to a \"saved model\" protobuf (.pb) file. This is just a\n",
    "# file where the weights which were previously dynamic have\n",
    "# been locked as constants.\n",
    "% run export-to-pb.py\n"
   ]
  },
  {
   "cell_type": "code",
   "execution_count": null,
   "metadata": {},
   "outputs": [],
   "source": [
    "# Exports the protobuf file saved by export-to-pb.py to an ONNX\n",
    "# format. This format should in theory be possible to read using\n",
    "# other frameworks supporting that model.\n",
    "% run export-to-onnx.py\n"
   ]
  },
  {
   "cell_type": "code",
   "execution_count": null,
   "metadata": {},
   "outputs": [],
   "source": [
    "# Attempts to load the file models/model.onnx in Microsoft CNTK\n",
    "# Note: Does not attempt to use the model for anything.\n",
    "# Note2: Loading fails due to bad ONNX file, but also fails for\n",
    "# pre-trained model due to issue documented here:\n",
    "# https://github.com/Microsoft/CNTK/issues/3310\n",
    "% run import -onnx-to-cntk.py\n"
   ]
  }
 ],
 "metadata": {
  "kernelspec": {
   "display_name": "Python 2",
   "language": "python",
   "name": "python2"
  },
  "language_info": {
   "codemirror_mode": {
    "name": "ipython",
    "version": 2
   },
   "file_extension": ".py",
   "mimetype": "text/x-python",
   "name": "python",
   "nbconvert_exporter": "python",
   "pygments_lexer": "ipython2",
   "version": "2.7.15"
  }
 },
 "nbformat": 4,
 "nbformat_minor": 2
}
