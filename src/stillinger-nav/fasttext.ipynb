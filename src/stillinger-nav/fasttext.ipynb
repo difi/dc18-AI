{
 "cells": [
  {
   "cell_type": "markdown",
   "metadata": {},
   "source": [
    "# Fasttext\n",
    "\n",
    "Fasttext er et en teknikk som representerer ord som vektorer, og bruker shallow neural networks til smart tekstanalyse. Det er utviklet av Facebook som et lett alternativ til deep neural networks som trenger kraftig maskinvare. \n",
    "Fasttext gir omtrent like god ytelse som tf-idf og support vector machines, gensim/word2vec, eller deep neural networks. \n",
    "\n",
    "Følg [instruksjoner](https://fasttext.cc/docs/en/support.html) for å komme igang. "
   ]
  },
  {
   "cell_type": "code",
   "execution_count": null,
   "metadata": {},
   "outputs": [],
   "source": [
    "!mkdir fasttext\n",
    "!mkdir data\n",
    "!mkdir fasttext/data"
   ]
  },
  {
   "cell_type": "code",
   "execution_count": null,
   "metadata": {},
   "outputs": [],
   "source": [
    "import os\n",
    "import sys\n",
    "\n",
    "\n",
    "data_dir = os.path.join('.', 'data')\n",
    "\n",
    "print(sys.version)"
   ]
  },
  {
   "cell_type": "code",
   "execution_count": null,
   "metadata": {},
   "outputs": [],
   "source": [
    "from lib.data import download_data\n",
    "\n",
    "download_data(data_dir)"
   ]
  },
  {
   "cell_type": "code",
   "execution_count": null,
   "metadata": {},
   "outputs": [],
   "source": [
    "from lib.load_dataset import load_datasets\n",
    "\n",
    "df = load_datasets(data_dir, 2015, 2015)\n",
    "\n",
    "print(df.shape)\n",
    "df.head()"
   ]
  },
  {
   "cell_type": "code",
   "execution_count": null,
   "metadata": {},
   "outputs": [],
   "source": [
    "import re\n",
    "from lib.preprocessing import remove_tags, unescape_html, remove_whitespace\n",
    "\n",
    "non_alphanumeric_pattern = re.compile(r'\\W')\n",
    "\n",
    "# Select subset of columns\n",
    "col = [\n",
    "    'stillingsbeskrivelse', \n",
    "    'yrke_grovgruppe',\n",
    "    'stilling_kilde',\n",
    "]\n",
    "df = df[col]\n",
    "\n",
    "\n",
    "# Preprocess text and add some columns\n",
    "df['stillingsbeskrivelse'] = df['stillingsbeskrivelse']\\\n",
    "    .map(remove_tags)\\\n",
    "    .map(unescape_html)\\\n",
    "    .map(remove_whitespace)\\\n",
    "    .map(lambda x: non_alphanumeric_pattern.sub(' ', x))\\\n",
    "    .map(lambda x: x.lower())\n",
    "df['is_from_nav'] = df['stilling_kilde'].map(lambda x: x=='Reg av arb.giver på nav.no')\n",
    "df['from_media'] = df['stilling_kilde'].map(lambda x: x=='Annonsert i media')\n",
    "df['is_healthcare'] = df['yrke_grovgruppe'].map(lambda x: x=='Helse, pleie og omsorg')\n",
    "df['is_industrial'] = df['yrke_grovgruppe'].map(lambda x: x=='Industriarbeid')\n",
    "\n",
    "print(df.shape)\n",
    "df.head()\n",
    "\n",
    "\n"
   ]
  },
  {
   "cell_type": "code",
   "execution_count": null,
   "metadata": {},
   "outputs": [],
   "source": [
    "import csv\n",
    "from sklearn.model_selection import train_test_split\n",
    "\n",
    "label_column = 'yrke_grovgruppe'\n",
    "\n",
    "def make_dataframe_fasttext_format(df, label_col, size=None, random_seed=305):\n",
    "    if not size:\n",
    "        size = len(df)\n",
    "    result = df.sample(n=size, random_state=random_seed)[[label_col, 'stillingsbeskrivelse']]\n",
    "    result[label_col] = result[label_col].map(lambda x: unicode(x).replace(' ', '_'))\n",
    "    result[label_col] = result[label_col].map(lambda x: '__label__' + unicode(x))\n",
    "    return result\n",
    "\n",
    "\n",
    "out = make_dataframe_fasttext_format(df, label_column)\n",
    "\n",
    "def write_train_test_files_for_fasttext(df, name, test_frac=0.2):\n",
    "    train_df, test_df = train_test_split(df, test_size=test_frac)\n",
    "    test_df.to_csv(os.path.join('.', 'fasttext', 'data', ''.join([name, '.test'])), escapechar=' ', sep=' ', header=None, mode='w', index=False, quoting=csv.QUOTE_NONE, encoding='utf-8')\n",
    "    train_df.to_csv(os.path.join('.', 'fasttext', 'data', ''.join([name, '.train'])), escapechar=' ', sep=' ', header=None, mode='w', index=False, quoting=csv.QUOTE_NONE, encoding='utf-8')\n",
    "    \n",
    "\n",
    "write_train_test_files_for_fasttext(out, label_column)"
   ]
  }
 ],
 "metadata": {
  "kernelspec": {
   "display_name": "Python 2",
   "language": "python",
   "name": "python2"
  },
  "language_info": {
   "codemirror_mode": {
    "name": "ipython",
    "version": 2
   },
   "file_extension": ".py",
   "mimetype": "text/x-python",
   "name": "python",
   "nbconvert_exporter": "python",
   "pygments_lexer": "ipython2",
   "version": "2.7.15"
  },
  "widgets": {
   "state": {},
   "version": "1.1.1"
  }
 },
 "nbformat": 4,
 "nbformat_minor": 1
}
